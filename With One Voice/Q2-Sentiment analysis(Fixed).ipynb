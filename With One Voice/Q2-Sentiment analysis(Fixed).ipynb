{
 "cells": [
  {
   "cell_type": "code",
   "execution_count": 167,
   "id": "2da18842",
   "metadata": {},
   "outputs": [],
   "source": [
    "import numpy as np\n",
    "import pandas as pd\n",
    "import matplotlib.pyplot as plt\n",
    "import seaborn as sns\n",
    "sns.set_theme(style='whitegrid')\n",
    "import warnings\n",
    "warnings.filterwarnings('ignore')"
   ]
  },
  {
   "cell_type": "code",
   "execution_count": 168,
   "id": "ee4cb69b",
   "metadata": {},
   "outputs": [],
   "source": [
    "# Load files 2018,2019,2020 and 2021\n",
    "da18 = pd.read_excel('2018.xlsx')\n",
    "da19 = pd.read_excel('2019.xlsx')\n",
    "da20 = pd.read_excel('2020.xlsx')\n",
    "da21 = pd.read_excel('2021.xlsx')"
   ]
  },
  {
   "cell_type": "code",
   "execution_count": 169,
   "id": "e352bd36",
   "metadata": {},
   "outputs": [],
   "source": [
    "# Format date type\n",
    "da18['End Date'] = pd.to_datetime(da18['End Date'], format='%d-%m-%Y %H:%M:%S', infer_datetime_format=True)\n",
    "da19['End Date'] = pd.to_datetime(da19['End Date'], format='%d-%m-%Y %H:%M:%S', infer_datetime_format=True)\n",
    "da20['End Date'] = pd.to_datetime(da20['End Date'], format='%d-%m-%Y %H:%M:%S', infer_datetime_format=True)\n",
    "da21['End Date'] = pd.to_datetime(da21['End Date'], format='%d-%m-%Y %H:%M:%S', infer_datetime_format=True)\n"
   ]
  },
  {
   "cell_type": "code",
   "execution_count": 170,
   "id": "f849a9be",
   "metadata": {},
   "outputs": [],
   "source": [
    "# Rename conductor feedback\n",
    "da18.rename(columns = {'Are there any other comments you would like to make about the value of the Choir to you?':'conductorfeedback'},inplace = True)\n",
    "da19.rename(columns = {'3.Is there anything that you particularly like about the choir?':'conductorfeedback'},inplace = True)\n",
    "da20.rename(columns = {'Do you have any feedback for us about our live sessions?':'conductorfeedback'},inplace = True)\n",
    "da21.rename(columns = {'9. What is the best thing about the choir? ___________':'conductorfeedback'},inplace = True)"
   ]
  },
  {
   "cell_type": "code",
   "execution_count": 171,
   "id": "269d82a8",
   "metadata": {},
   "outputs": [],
   "source": [
    "mod_18 = da18.dropna( how='any',subset=['conductorfeedback'])\n",
    "mod_19 = da19.dropna( how='any',subset=['conductorfeedback'])\n",
    "mod_20 = da20.dropna( how='any',subset=['conductorfeedback'])\n",
    "mod_21 = da21.dropna( how='any',subset=['conductorfeedback'])"
   ]
  },
  {
   "cell_type": "code",
   "execution_count": 172,
   "id": "8090b0ef",
   "metadata": {},
   "outputs": [],
   "source": [
    "# Create a new dataframe include conductor feedback and End date\n",
    "a18 = mod_18.loc[:,['End Date','conductorfeedback']]\n",
    "a19 = mod_19.loc[:,['End Date','conductorfeedback']]\n",
    "a20 = mod_20.loc[:,['End Date','conductorfeedback']]\n",
    "a21 = mod_21.loc[:,['End Date','conductorfeedback']]"
   ]
  },
  {
   "cell_type": "code",
   "execution_count": 173,
   "id": "fa9e3673",
   "metadata": {},
   "outputs": [],
   "source": [
    "# Convert date into year\n",
    "a18['End Date'] = a19['End Date'].dt.year\n",
    "a19['End Date'] = a19['End Date'].dt.year\n",
    "a20['End Date'] = a20['End Date'].dt.year\n",
    "a21['End Date']= a21['End Date'].dt.year"
   ]
  },
  {
   "cell_type": "code",
   "execution_count": 174,
   "id": "77bc34ea",
   "metadata": {},
   "outputs": [
    {
     "name": "stderr",
     "output_type": "stream",
     "text": [
      "[nltk_data] Downloading package vader_lexicon to\n",
      "[nltk_data]     C:\\Users\\nickn\\AppData\\Roaming\\nltk_data...\n",
      "[nltk_data]   Package vader_lexicon is already up-to-date!\n"
     ]
    }
   ],
   "source": [
    "import nltk\n",
    "nltk.download('vader_lexicon')\n",
    "from nltk.sentiment.vader import SentimentIntensityAnalyzer\n",
    "from nltk.tokenize import sent_tokenize"
   ]
  },
  {
   "cell_type": "code",
   "execution_count": 175,
   "id": "0b13fee5",
   "metadata": {},
   "outputs": [],
   "source": [
    "#Initialize an instance of SentimentIntensityAnalyzer\n",
    "analyser = SentimentIntensityAnalyzer()"
   ]
  },
  {
   "cell_type": "code",
   "execution_count": 176,
   "id": "cd7b7a0d",
   "metadata": {},
   "outputs": [],
   "source": [
    "# Extract tweets mentioning to conductors\n",
    "conduct18 = a18[a18['conductorfeedback'].str.contains('conduct',na = False)]\n",
    "conduct19 = a19[a19['conductorfeedback'].str.contains('conduct',na = False)]\n",
    "conduct20 = a20[a20['conductorfeedback'].str.contains('conduct',na = False)]\n",
    "conduct21 = a21[a21['conductorfeedback'].str.contains('conduct',na = False)]"
   ]
  },
  {
   "cell_type": "code",
   "execution_count": 177,
   "id": "9d4fbabc",
   "metadata": {},
   "outputs": [],
   "source": [
    "#Calculate sentiment score for tweets mentioning conductors in 2018\n",
    "conduct18['neg'] = conduct18['conductorfeedback'].apply(lambda x:analyser.polarity_scores(x)['neg'])\n",
    "conduct18['neu'] = conduct18['conductorfeedback'].apply(lambda x:analyser.polarity_scores(x)['neu'])\n",
    "conduct18['pos'] = conduct18['conductorfeedback'].apply(lambda x:analyser.polarity_scores(x)['pos'])\n",
    "conduct18['compound'] = conduct18['conductorfeedback'].apply(lambda x:analyser.polarity_scores(x)['compound'])\n",
    "\n",
    "#Calculate sentiment score for tweets mentioning in 2018\n",
    "conduct19['neg'] = conduct19['conductorfeedback'].apply(lambda x:analyser.polarity_scores(x)['neg'])\n",
    "conduct19['neu'] = conduct19['conductorfeedback'].apply(lambda x:analyser.polarity_scores(x)['neu'])\n",
    "conduct19['pos'] = conduct19['conductorfeedback'].apply(lambda x:analyser.polarity_scores(x)['pos'])\n",
    "conduct19['compound'] = conduct19['conductorfeedback'].apply(lambda x:analyser.polarity_scores(x)['compound'])\n",
    "\n",
    "#Calculate sentiment score for tweets mentioning in 2018\n",
    "conduct20['neg'] = conduct20['conductorfeedback'].apply(lambda x:analyser.polarity_scores(x)['neg'])\n",
    "conduct20['neu'] = conduct20['conductorfeedback'].apply(lambda x:analyser.polarity_scores(x)['neu'])\n",
    "conduct20['pos'] = conduct20['conductorfeedback'].apply(lambda x:analyser.polarity_scores(x)['pos'])\n",
    "conduct20['compound'] = conduct20['conductorfeedback'].apply(lambda x:analyser.polarity_scores(x)['compound'])\n",
    "\n",
    "#Calculate sentiment score for tweets mentioning in 2018\n",
    "conduct21['neg'] = conduct21['conductorfeedback'].apply(lambda x:analyser.polarity_scores(x)['neg'])\n",
    "conduct21['neu'] = conduct21['conductorfeedback'].apply(lambda x:analyser.polarity_scores(x)['neu'])\n",
    "conduct21['pos'] = conduct21['conductorfeedback'].apply(lambda x:analyser.polarity_scores(x)['pos'])\n",
    "conduct21['compound'] = conduct21['conductorfeedback'].apply(lambda x:analyser.polarity_scores(x)['compound'])"
   ]
  },
  {
   "cell_type": "code",
   "execution_count": 178,
   "id": "afdc83f8",
   "metadata": {},
   "outputs": [
    {
     "name": "stdout",
     "output_type": "stream",
     "text": [
      "Average sentiment toward conductor in 2018:\n",
      " Negative: 0.018 Positive: 0.379\n",
      "Average sentiment toward conductor in 2019:\n",
      " Negative: 0.005 Positive: 0.267\n",
      "Average sentiment toward conductor in 2020:\n",
      " Negative: 0.015 Positive: 0.218\n",
      "Average sentiment toward conductor in 2021:\n",
      " Negative: 0.0 Positive: 0.207\n"
     ]
    }
   ],
   "source": [
    "from statistics import mean\n",
    "print('Average sentiment toward conductor in 2018:\\n','Negative:', round(mean(conduct18['neg']),3),'Positive:',round(mean(conduct18['pos']),3))\n",
    "print('Average sentiment toward conductor in 2019:\\n','Negative:', round(mean(conduct19['neg']),3),'Positive:',round(mean(conduct19['pos']),3))\n",
    "print('Average sentiment toward conductor in 2020:\\n','Negative:', round(mean(conduct20['neg']),3),'Positive:',round(mean(conduct20['pos']),3))\n",
    "print('Average sentiment toward conductor in 2021:\\n','Negative:', round(mean(conduct21['neg']),3),'Positive:',round(mean(conduct21['pos']),3))"
   ]
  },
  {
   "cell_type": "code",
   "execution_count": 179,
   "id": "346222a5",
   "metadata": {},
   "outputs": [],
   "source": [
    "# Given the average sentiment scores are between 0.01 to 0.25, the threshold can be determined to be 0.01"
   ]
  },
  {
   "cell_type": "code",
   "execution_count": 180,
   "id": "0243e2c5",
   "metadata": {},
   "outputs": [],
   "source": [
    "import numpy as np\n",
    "#Indentify negative and postive tweets toward conductor in 2018\n",
    "conduct18['Positive_Counts'] = np.where(conduct18['pos']> 0.01, 1, 0)\n",
    "conduct18['Negative_Counts'] = np.where(conduct18['neg']> 0.01, 1, 0)\n",
    "#Indentify negative and postive tweets toward conductor in 2019\n",
    "conduct19['Positive_Counts'] = np.where(conduct19['pos']> 0.01, 1, 0)\n",
    "conduct19['Negative_Counts'] = np.where(conduct19['neg']> 0.01, 1, 0)\n",
    "#Indentify negative and postive tweets toward conductor in 2020\n",
    "conduct20['Positive_Counts'] = np.where(conduct20['pos']> 0.01, 1, 0)\n",
    "conduct20['Negative_Counts'] = np.where(conduct20['neg']> 0.01, 1, 0)\n",
    "#Indentify negative and postive tweets toward conductor in 2021\n",
    "conduct21['Positive_Counts'] = np.where(conduct21['pos']> 0.01, 1, 0)\n",
    "conduct21['Negative_Counts'] = np.where(conduct21['neg']> 0.01, 1, 0)"
   ]
  },
  {
   "cell_type": "code",
   "execution_count": 181,
   "id": "820a99b5",
   "metadata": {},
   "outputs": [],
   "source": [
    "#Count negative and postive tweets toward conductors mentioned\n",
    "Pos_18 = conduct18['Positive_Counts'].sum()\n",
    "Neg_18 = conduct18['Negative_Counts'].sum()\n",
    "Total18 = len(conduct18)\n",
    "\n",
    "Pos_19 = conduct19['Positive_Counts'].sum()\n",
    "Neg_19 = conduct19['Negative_Counts'].sum()\n",
    "Total19 = len(conduct19)\n",
    "\n",
    "Pos_20 = conduct20['Positive_Counts'].sum()\n",
    "Neg_20 = conduct20['Negative_Counts'].sum()\n",
    "Total20 = len(conduct20)\n",
    "\n",
    "Pos_21 = conduct21['Positive_Counts'].sum()\n",
    "Neg_21 = conduct21['Negative_Counts'].sum()\n",
    "Total21 = len(conduct21)"
   ]
  },
  {
   "cell_type": "code",
   "execution_count": 182,
   "id": "aaee93b2",
   "metadata": {},
   "outputs": [
    {
     "name": "stdout",
     "output_type": "stream",
     "text": [
      "The number of positive and negative sentiment toward conductors:\n"
     ]
    },
    {
     "data": {
      "text/html": [
       "<div>\n",
       "<style scoped>\n",
       "    .dataframe tbody tr th:only-of-type {\n",
       "        vertical-align: middle;\n",
       "    }\n",
       "\n",
       "    .dataframe tbody tr th {\n",
       "        vertical-align: top;\n",
       "    }\n",
       "\n",
       "    .dataframe thead th {\n",
       "        text-align: right;\n",
       "    }\n",
       "</style>\n",
       "<table border=\"1\" class=\"dataframe\">\n",
       "  <thead>\n",
       "    <tr style=\"text-align: right;\">\n",
       "      <th></th>\n",
       "      <th>Conductor</th>\n",
       "      <th>Positive</th>\n",
       "      <th>Negative</th>\n",
       "      <th>Total</th>\n",
       "    </tr>\n",
       "  </thead>\n",
       "  <tbody>\n",
       "    <tr>\n",
       "      <th>0</th>\n",
       "      <td>Conductor 2018</td>\n",
       "      <td>8</td>\n",
       "      <td>3</td>\n",
       "      <td>9</td>\n",
       "    </tr>\n",
       "    <tr>\n",
       "      <th>1</th>\n",
       "      <td>Conductor 2019</td>\n",
       "      <td>43</td>\n",
       "      <td>3</td>\n",
       "      <td>64</td>\n",
       "    </tr>\n",
       "    <tr>\n",
       "      <th>2</th>\n",
       "      <td>Conductor 2020</td>\n",
       "      <td>15</td>\n",
       "      <td>4</td>\n",
       "      <td>17</td>\n",
       "    </tr>\n",
       "    <tr>\n",
       "      <th>3</th>\n",
       "      <td>Conductor 2021</td>\n",
       "      <td>9</td>\n",
       "      <td>0</td>\n",
       "      <td>16</td>\n",
       "    </tr>\n",
       "  </tbody>\n",
       "</table>\n",
       "</div>"
      ],
      "text/plain": [
       "        Conductor  Positive  Negative  Total\n",
       "0  Conductor 2018         8         3      9\n",
       "1  Conductor 2019        43         3     64\n",
       "2  Conductor 2020        15         4     17\n",
       "3  Conductor 2021         9         0     16"
      ]
     },
     "execution_count": 182,
     "metadata": {},
     "output_type": "execute_result"
    }
   ],
   "source": [
    "#Create new dataset with conductors every year ans number of positive and negative tweets\n",
    "data = {'Conductor': \n",
    " ['Conductor 2018', 'Conductor 2019','Conductor 2020','Conductor 2021'], \n",
    " 'Positive': \n",
    " [Pos_18, Pos_19,Pos_20,Pos_21],\n",
    " 'Negative':[Neg_18,Neg_19,Neg_20,Neg_21],\n",
    " 'Total':[Total18,Total19,Total20,Total21]}\n",
    "sentiment_df = pd.DataFrame(data=data)\n",
    "print('The number of positive and negative sentiment toward conductors:')\n",
    "sentiment_df"
   ]
  },
  {
   "cell_type": "code",
   "execution_count": 183,
   "id": "45448e49",
   "metadata": {},
   "outputs": [],
   "source": [
    "#Calculate proportion of pos and neg sentiment\n",
    "PositivePercentage = []\n",
    "NegativePercentage = []\n",
    "for i in range(len(sentiment_df)):\n",
    " PositivePercentage.append(sentiment_df.iloc[i]['Positive'] / sentiment_df.iloc[i]['Total'])\n",
    " NegativePercentage.append(sentiment_df.iloc[i]['Negative'] / sentiment_df.iloc[i]['Total'])"
   ]
  },
  {
   "cell_type": "code",
   "execution_count": 184,
   "id": "45e7599c",
   "metadata": {},
   "outputs": [
    {
     "data": {
      "text/plain": [
       "Text(0, 0.5, 'Proportion')"
      ]
     },
     "execution_count": 184,
     "metadata": {},
     "output_type": "execute_result"
    },
    {
     "data": {
      "image/png": "[encoded data removed]",
      "text/plain": [
       "<Figure size 1600x480 with 1 Axes>"
      ]
     },
     "metadata": {},
     "output_type": "display_data"
    }
   ],
   "source": [
    "#Plot proportion of pos and neg sentiment\n",
    "plt.figure(figsize = (20,6), dpi=80)\n",
    "x = np.arange(len(sentiment_df['Conductor']))\n",
    "width = 0.25 \n",
    "plt.bar(x, PositivePercentage, width, color='green', label='Positive Sentiment %')\n",
    "plt.bar(x + width, NegativePercentage, width, color='red', label='Negative Sentiment %')\n",
    "plt.xticks(x+width,('Conductor2018', 'Conductor2019','Conductor2020','Conductor2021'))\n",
    "plt.legend(loc=1)\n",
    "plt.yticks(np.arange(0, 1.1, 0.1))\n",
    "plt.title('Proportion of Positive and Negative Tweets through years', fontsize=14)\n",
    "plt.xlabel('Conductor tweet')\n",
    "plt.ylabel('Proportion')"
   ]
  },
  {
   "cell_type": "code",
   "execution_count": 185,
   "id": "e5d3c8dc",
   "metadata": {},
   "outputs": [],
   "source": [
    "# Overall, there are more positive tweets than negative tweet about conductors across all the years."
   ]
  },
  {
   "cell_type": "code",
   "execution_count": 186,
   "id": "53ab62b7",
   "metadata": {},
   "outputs": [],
   "source": [
    "# Among positive tweets, Conductor 2018 got the highest proportion of positive tweets (89%)"
   ]
  },
  {
   "cell_type": "code",
   "execution_count": 187,
   "id": "277608d2",
   "metadata": {},
   "outputs": [],
   "source": []
  }
 ],
 "metadata": {
  "kernelspec": {
   "display_name": "Python 3",
   "language": "python",
   "name": "python3"
  },
  "language_info": {
   "codemirror_mode": {
    "name": "ipython",
    "version": 3
   },
   "file_extension": ".py",
   "mimetype": "text/x-python",
   "name": "python",
   "nbconvert_exporter": "python",
   "pygments_lexer": "ipython3",
   "version": "3.8.8"
  }
 },
 "nbformat": 4,
 "nbformat_minor": 5
}
