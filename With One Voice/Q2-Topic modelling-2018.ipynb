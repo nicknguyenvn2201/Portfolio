{
 "cells": [
  {
   "cell_type": "code",
   "execution_count": 1,
   "id": "8552cd7d",
   "metadata": {},
   "outputs": [],
   "source": [
    "import numpy as np\n",
    "import pandas as pd\n",
    "import matplotlib.pyplot as plt\n",
    "import seaborn as sns\n",
    "sns.set_theme(style='whitegrid')\n",
    "import warnings\n",
    "warnings.filterwarnings('ignore')\n",
    "import nltk"
   ]
  },
  {
   "cell_type": "code",
   "execution_count": 2,
   "id": "37fef79d",
   "metadata": {},
   "outputs": [],
   "source": [
    "# Load files 2018,2019,2020 and 2021\n",
    "da18 = pd.read_excel('2018.xlsx')\n",
    "da19 = pd.read_excel('2019.xlsx')\n",
    "da20 = pd.read_excel('2020.xlsx')\n",
    "da21 = pd.read_excel('2021.xlsx')"
   ]
  },
  {
   "cell_type": "code",
   "execution_count": 3,
   "id": "cbb48865",
   "metadata": {},
   "outputs": [],
   "source": [
    "# Format date type\n",
    "da18['End Date'] = pd.to_datetime(da18['End Date'], format='%d-%m-%Y %H:%M:%S', infer_datetime_format=True)\n",
    "da19['End Date'] = pd.to_datetime(da19['End Date'], format='%d-%m-%Y %H:%M:%S', infer_datetime_format=True)\n",
    "da20['End Date'] = pd.to_datetime(da20['End Date'], format='%d-%m-%Y %H:%M:%S', infer_datetime_format=True)\n",
    "da21['End Date'] = pd.to_datetime(da21['End Date'], format='%d-%m-%Y %H:%M:%S', infer_datetime_format=True)"
   ]
  },
  {
   "cell_type": "code",
   "execution_count": 4,
   "id": "2a3ed8e6",
   "metadata": {},
   "outputs": [],
   "source": [
    "# Rename conductor feedback\n",
    "da18.rename(columns = {'Are there any other comments you would like to make about the value of the Choir to you?':'conductorfeedback'},inplace = True)\n",
    "da19.rename(columns = {'3.Is there anything that you particularly like about the choir?':'conductorfeedback'},inplace = True)\n",
    "da20.rename(columns = {'Do you have any feedback for us about our live sessions?':'conductorfeedback'},inplace = True)\n",
    "da21.rename(columns = {'9. What is the best thing about the choir? ___________':'conductorfeedback'},inplace = True)"
   ]
  },
  {
   "cell_type": "code",
   "execution_count": 5,
   "id": "1aaef782",
   "metadata": {},
   "outputs": [],
   "source": [
    "da18_clean = da18['conductorfeedback'].dropna()"
   ]
  },
  {
   "cell_type": "code",
   "execution_count": 6,
   "id": "a63b060e",
   "metadata": {},
   "outputs": [],
   "source": [
    "da18_clean = da18_clean.reset_index()\n",
    "da18_clean = da18_clean.drop(columns=['index'])"
   ]
  },
  {
   "cell_type": "code",
   "execution_count": 7,
   "id": "694ee720",
   "metadata": {},
   "outputs": [],
   "source": [
    "# 4.Topic modelling\n",
    "from nltk.stem import PorterStemmer\n",
    "import re"
   ]
  },
  {
   "cell_type": "code",
   "execution_count": 8,
   "id": "f5672c59",
   "metadata": {},
   "outputs": [
    {
     "name": "stdout",
     "output_type": "stream",
     "text": [
      "-[Tweet Text]:  nothing particular though worth reiterating much have choir rehearsals gigs which honest probably mostly down conductor dillon hilarious entertaining watch just makes worthwhile practise every week probably worth mentioning that when first joined choir those months people often asked joined used always ething like because singing makes happy believe singing releases endorphins room full other people singing same song just getting right feels good make feel happy rest week\n",
      "-[Tweet Text]:  lydia been best things happen whole time been attending value nicki lydia anthony immeasurable they should trusted completely their roles very much respect appreciate what tania achieve with this program working believe could work even better something that frustrates disappoints within individual choirs spirit unity friendship inclusion present however often feel tania talks talk doesn walk sure diplomacy here wish offend feedback hope will constructive times found tania rude behind scenes genuine while lights tania were consistent with appreciation choir members times just when stage believe could even better group choirs love respect have conductors because they have earned position they hold they treat members example stage tania remarked about good friend hers when said this person later didn know tania were friends reply neither whether person disability they aren stupid caution should taken people examples because they have good story have stories actually same whether marginalised wealthy know people with their purse strings know need money continue there needs better balance people hurt resentment does further build process ashburton improved life greatly appreciative weekly opportunity sing support feel supported thank\n",
      "-[Tweet Text]:  good people fantastic conductors\n",
      "-[Tweet Text]:  \n",
      "-[Tweet Text]:  please note that volunteers work front welcoming choir attendees visitors giving information about with voice completing pasme follow payment membership fees seek information about attendees financial circumstances that payed financial professional with responsibility around each individuals confidentiality appropriate volunteers intruding these areas also promoting community that values each members equality acceptance within choir community encourage choir attendees make financial contribution when able nothing more than that\n",
      "-[Tweet Text]:  this survey much longer than believe\n",
      "-[Tweet Text]:  good\n",
      "-[Tweet Text]:  \n",
      "-[Tweet Text]:  journey with mental health kept home haven been would have liked choir participated hoped\n",
      "-[Tweet Text]:  very happy uplifting\n",
      "-[Tweet Text]:  always make choir because randwick requires intensive people interaction some days have enough people interaction straight home\n",
      "-[Tweet Text]:  with voice caring kind community\n",
      "-[Tweet Text]:  choir highlight week people family matter feeling before walk that door keeps hospital\n",
      "-[Tweet Text]:  this stage very comprehensive survey\n",
      "-[Tweet Text]:  choir been lifesaver gave comfort confidence pursue things that meaningful more importantly welcome environment been instrumental giving comfort confidence many participants lucky that something like creativity australia exists look forward joining again when return australia\n",
      "-[Tweet Text]:  choir very important impact members\n",
      "-[Tweet Text]:  \n",
      "-[Tweet Text]:  really enjoy robert amazing conductor kind generous welcoming extremely talented\n",
      "-[Tweet Text]:  have comments along indicated ashburton fabulous still feel some disconnect with head office concerns about some broader operational promotional activities\n",
      "-[Tweet Text]:  dillon extraordinary someone young\n",
      "-[Tweet Text]:  choir well organised friends opportunity sing well challenge personal perceptions ability sing under cath always better than what thought could\n",
      "-[Tweet Text]:  snobby\n",
      "-[Tweet Text]:  times choir positive experience some people listening others interrupting while others speaking trying tell conductor what appears that many expected tolerant others however needs work both ways those that socially challenged great learning experience them learn work groups self aware anthony patient times frustration attend choir because love sing think anthony brilliant however like being forced sell tickets events\n",
      "-[Tweet Text]:  work week seems shorter after choir\n",
      "-[Tweet Text]:  have only attended about sessions choir very hometown conductor lovely people volunteer help attend really enjoy opportunity come together week sing unwind however something increasingly making feel quite uneasy wary starters times feels churchy even though there indication choir religious affiliations perhaps program structured definitely have sense that some point down track despite warm fuzzy that this community going come cost that voice creativity australia will want something example note creativity australia website that choir groups just starting there support investment time resources choir groups first months that there expectation that choir groups start focus fundraising perhaps would feel more comfortable this more explicit upfront could understand what expectations fundraising help choir group help support less advantaged choir group choir group help raise funds community about helping raise funds creativity australia\n",
      "-[Tweet Text]:  choir been wonderful outlet retired person\n",
      "-[Tweet Text]:  socially isolated advanced cancer diagnosis unfortunately worsened recently choir gives some moments happiness during treatment\n",
      "-[Tweet Text]:  wasn choir wouldn alive today\n",
      "-[Tweet Text]:  have aquired confidenceto start choir with husband sing nursing homes mostly cultural events within dutch community there many people have made happy faithful this where lead bought peace happiness\n",
      "-[Tweet Text]:  have always loved sing have outlet where express this aspect personality without being nervous about musical abilities being judged\n",
      "-[Tweet Text]:  absolutely love because challenging rewarding inclusive choir night takes priority over everything else\n",
      "-[Tweet Text]:  think everything been covered above just choir been best discoveries\n",
      "-[Tweet Text]:  choir only enjoyable like family family never really\n",
      "-[Tweet Text]:  \n",
      "-[Tweet Text]:  invaluable truly finding voice singing from heart\n",
      "-[Tweet Text]:  great escape from stress work\n",
      "-[Tweet Text]:  please stop making disability focus believe tani could more understanding display elements sympathy concern towards choir members staff listening speak rudely with concern abled bodied members appalls\n",
      "-[Tweet Text]:  someone lives alone family long term under employed gives routine week something look forward community\n",
      "-[Tweet Text]:  love choir connections made\n",
      "-[Tweet Text]:  love directors exceptional people with huge range skills fantastic warmth enthusiasm acceptance\n",
      "-[Tweet Text]:  confident independent person singing makes happy although only choir short time lifts thoughts\n",
      "-[Tweet Text]:  have been made feel very welcome makes everything sing delight\n",
      "-[Tweet Text]:  much needed balm exactly right time life pleasure connect with others especially through music\n",
      "-[Tweet Text]:  inspiring conductor\n",
      "-[Tweet Text]:  carer choir support care client also come enjoy singing well short time that been there found people very friendly helpful inclusive towarded client they accepted disability which appreciate valued most\n",
      "-[Tweet Text]:  quite only down here ashburton choir growing every week exactly grow before exceeds physical emotional critical mass should have second choir nearby dillon superb been four choirs three years still simply wonderful choir leader calm tolerant musically gifted superb teacher wouldn stay voice left reluctant give suggestions wonder make choristers more aware things asked about this survey maybe they could mentioned choir rehearsals maybe could regular very short email with maybe eight points link relevant article your website that also encourage discover that actually have website each choir secretary whatever post that boss volunteer called could they possibly deliver promotional words about fine things raised this survey before after each rehearsal maybe another volunteer another humble idea might each choir provide interesting article twice year interesting choir member that people year that might encourage more engagement between choir members your various social media forums could definitely recommend getting various interns from various universities handle such things facebook twitter writing articles editing venue planning note would humbly suggest different interns different things sorry personally love choir provides significant value personally granddaughter simply loves interacting with diverse members chour\n",
      "-[Tweet Text]:  choir leader very skillful does great leading training choir members being excellent singer keyboard player wonderful asset choir inspires motivates helps have laugh well well done\n",
      "-[Tweet Text]:  great meet people like learning songs haven sung before would like wishlist shortened class because takes long\n",
      "-[Tweet Text]:  impressed\n",
      "-[Tweet Text]:  \n",
      "-[Tweet Text]:  great mildura team\n",
      "-[Tweet Text]:  singing choir especially winter nights helped prevent sinking into despair after death husband years together from cancer\n",
      "-[Tweet Text]:  when attended choir feel empowered happy alive really love sing makes feel great\n",
      "-[Tweet Text]:  \n",
      "-[Tweet Text]:  just love look forward wednesday nights more than other time week\n",
      "-[Tweet Text]:  conductor really makes\n",
      "-[Tweet Text]:  great bring communities together\n",
      "-[Tweet Text]:  more special workshops will advanced members choir learn better skills choir please learn songs from onwards learn many songs\n",
      "-[Tweet Text]:  \n",
      "-[Tweet Text]:  conductor ashburton dillon absolutely exceptional\n"
     ]
    }
   ],
   "source": [
    "#Data Cleaning by removing punctuations, numbers, special characters, and short words\n",
    "documents = da18_clean['conductorfeedback']\n",
    "Cleaned_doc = []\n",
    "for r in range(len(documents)):\n",
    "    tweet = documents[r]\n",
    "    try:\n",
    "        tweet = re.sub('[^A-Za-z]', ' ', tweet) #removing everything except alphabets\n",
    "        tweet = tweet.lower() #lowercase\n",
    "        Tokens = tweet.split() #tokenization\n",
    "        Filtered_token = [w for w in Tokens if len(w)>3] # removing short words\n",
    "        tweet = ' '.join(Filtered_token) \n",
    "    except:\n",
    "        continue\n",
    "#Save cleaned text\n",
    "    Cleaned_doc.append(tweet) \n",
    "    print('-[Tweet Text]: ', tweet)"
   ]
  },
  {
   "cell_type": "code",
   "execution_count": 9,
   "id": "1ff693fe",
   "metadata": {
    "scrolled": false
   },
   "outputs": [
    {
     "name": "stdout",
     "output_type": "stream",
     "text": [
      "-[Cleaned Text]:  nothing particular though worth reiterating much have choir rehearsals gigs which honest probably mostly down conductor dillon hilarious entertaining just makes worthwhile practise every week probably worth mentioning that when first joined choir those months people often asked joined used always ething like singing makes happy believe singing releases endorphins room full other people singing same song just getting right feels good make feel happy rest week\n",
      "-[Cleaned Text]:  lydia been best happen whole time been attending value nicki lydia anthony immeasurable they should trusted completely their roles much respect appreciate what tania achieve with this program working believe could work even better that frustrates disappoints within individual choirs spirit unity friendship inclusion present however often feel tania talks talk walk sure diplomacy here wish offend feedback hope will constructive times found tania rude behind scenes genuine while lights tania were consistent with appreciation choir members times just when stage believe could even better group choirs love respect have conductors they have earned position they hold they treat members example stage tania remarked about good friend hers when said this person later didn know tania were friends reply neither whether person disability they aren stupid caution should taken people examples they have good story have stories actually same whether marginalised wealthy know people with their purse strings know need money continue there needs better balance people hurt resentment does further build process ashburton improved life greatly appreciative weekly opportunity sing support feel supported\n",
      "-[Cleaned Text]:  good people fantastic conductors\n",
      "-[Cleaned Text]:  \n",
      "-[Cleaned Text]:  note that volunteers work front welcoming choir attendees visitors giving information about with voice completing pasme follow payment membership fees seek information about attendees financial circumstances that payed financial professional with responsibility around each individuals confidentiality appropriate volunteers intruding these areas also promoting community that values each members equality acceptance within choir community encourage choir attendees make financial contribution when able nothing more than that\n",
      "-[Cleaned Text]:  this survey much longer than believe\n",
      "-[Cleaned Text]:  good\n",
      "-[Cleaned Text]:  \n",
      "-[Cleaned Text]:  journey with mental health kept home haven been would have liked choir participated hoped\n",
      "-[Cleaned Text]:  happy uplifting\n",
      "-[Cleaned Text]:  always make choir randwick requires intensive people interaction some days have enough people interaction straight home\n",
      "-[Cleaned Text]:  with voice caring kind community\n",
      "-[Cleaned Text]:  choir highlight week people family matter feeling before walk that door keeps hospital\n",
      "-[Cleaned Text]:  this stage comprehensive survey\n",
      "-[Cleaned Text]:  choir been lifesaver gave comfort confidence pursue that meaningful more importantly welcome environment been instrumental giving comfort confidence many participants lucky that like creativity australia exists forward joining again when return australia\n",
      "-[Cleaned Text]:  choir important impact members\n",
      "-[Cleaned Text]:  \n",
      "-[Cleaned Text]:  really enjoy robert amazing conductor kind generous welcoming extremely talented\n",
      "-[Cleaned Text]:  have comments along indicated ashburton fabulous still feel some disconnect with head office concerns about some broader operational promotional activities\n",
      "-[Cleaned Text]:  dillon extraordinary young\n",
      "-[Cleaned Text]:  choir well organised friends opportunity sing well challenge personal perceptions ability sing under cath always better than what thought could\n",
      "-[Cleaned Text]:  snobby\n",
      "-[Cleaned Text]:  times choir positive experience some people listening others interrupting while others speaking trying tell conductor what appears that many expected tolerant others however needs work both ways those that socially challenged great learning experience them learn work groups self aware anthony patient times frustration attend choir love sing think anthony brilliant however like being forced sell tickets events\n",
      "-[Cleaned Text]:  work week seems shorter after choir\n",
      "-[Cleaned Text]:  have only attended about sessions choir hometown conductor lovely people volunteer help attend really enjoy opportunity come together week sing unwind however increasingly making feel quite uneasy wary starters times feels churchy even though there indication choir religious affiliations perhaps program structured definitely have sense that some point down track despite warm fuzzy that this community going come cost that voice creativity australia will want example note creativity australia website that choir groups just starting there support investment time resources choir groups first months that there expectation that choir groups start focus fundraising perhaps would feel more comfortable this more explicit upfront could understand what expectations fundraising help choir group help support less advantaged choir group choir group help raise funds community about helping raise funds creativity australia\n",
      "-[Cleaned Text]:  choir been wonderful outlet retired person\n",
      "-[Cleaned Text]:  socially isolated advanced cancer diagnosis unfortunately worsened recently choir gives some moments happiness during treatment\n",
      "-[Cleaned Text]:  wasn choir wouldn alive\n",
      "-[Cleaned Text]:  have aquired confidenceto start choir with husband sing nursing homes mostly cultural events within dutch community there many people have made happy faithful this where lead bought peace happiness\n",
      "-[Cleaned Text]:  have always loved sing have outlet where express this aspect personality without being nervous about musical abilities being judged\n",
      "-[Cleaned Text]:  absolutely love challenging rewarding inclusive choir night takes priority over else\n",
      "-[Cleaned Text]:  think been covered above just choir been best discoveries\n",
      "-[Cleaned Text]:  choir only enjoyable like family family never really\n",
      "-[Cleaned Text]:  \n",
      "-[Cleaned Text]:  invaluable truly finding voice singing from heart\n",
      "-[Cleaned Text]:  great escape from stress work\n",
      "-[Cleaned Text]:  stop making disability focus believe tani could more understanding display elements sympathy concern towards choir members staff listening speak rudely with concern abled bodied members appalls\n",
      "-[Cleaned Text]:  lives alone family long term under employed gives routine week forward community\n",
      "-[Cleaned Text]:  love choir connections made\n",
      "-[Cleaned Text]:  love directors exceptional people with huge range skills fantastic warmth enthusiasm acceptance\n",
      "-[Cleaned Text]:  confident independent person singing makes happy although only choir short time lifts thoughts\n",
      "-[Cleaned Text]:  have been made feel welcome makes sing delight\n",
      "-[Cleaned Text]:  much needed balm exactly right time life pleasure connect with others especially through music\n",
      "-[Cleaned Text]:  inspiring conductor\n",
      "-[Cleaned Text]:  carer choir support client also come enjoy singing well short time that been there found people friendly helpful inclusive towarded client they accepted disability which appreciate valued most\n",
      "-[Cleaned Text]:  quite only down here ashburton choir growing every week exactly grow before exceeds physical emotional critical mass should have second choir nearby dillon superb been four choirs three years still simply wonderful choir leader calm tolerant musically gifted superb teacher wouldn stay voice left reluctant give suggestions wonder make choristers more aware asked about this survey maybe they could mentioned choir rehearsals maybe could regular short email with maybe eight points link relevant article your website that also encourage discover that actually have website each choir secretary whatever post that boss volunteer called could they possibly deliver promotional words about fine raised this survey before after each rehearsal maybe another volunteer another humble idea might each choir provide interesting article twice year interesting choir member that people year that might encourage more engagement between choir members your various social media forums could definitely recommend getting various interns from various universities handle such facebook twitter writing articles editing venue planning note would humbly suggest different interns different sorry personally love choir provides significant value personally granddaughter simply loves interacting with diverse members chour\n",
      "-[Cleaned Text]:  choir leader skillful does great leading training choir members being excellent singer keyboard player wonderful asset choir inspires motivates helps have laugh well well done\n",
      "-[Cleaned Text]:  great meet people like learning songs haven sung before would like wishlist shortened class takes long\n",
      "-[Cleaned Text]:  impressed\n",
      "-[Cleaned Text]:  \n",
      "-[Cleaned Text]:  great mildura team\n",
      "-[Cleaned Text]:  singing choir especially winter nights helped prevent sinking into despair after death husband years together from cancer\n",
      "-[Cleaned Text]:  when attended choir feel empowered happy alive really love sing makes feel great\n",
      "-[Cleaned Text]:  \n",
      "-[Cleaned Text]:  just love forward wednesday nights more than other time week\n",
      "-[Cleaned Text]:  conductor really makes\n",
      "-[Cleaned Text]:  great bring communities together\n",
      "-[Cleaned Text]:  more special workshops will advanced members choir learn better skills choir learn songs from onwards learn many songs\n",
      "-[Cleaned Text]:  \n",
      "-[Cleaned Text]:  conductor ashburton dillon absolutely exceptional\n"
     ]
    }
   ],
   "source": [
    "#Remove the stop-words from the text data\n",
    "from nltk.corpus import stopwords\n",
    "stop_words = stopwords.words('english')\n",
    "stop_words = ['https','because','please','very','thank','call','watch','look','today','something','someone',\n",
    " 'anyone','anything','everyone','everything','thanks','care','thing','doesn','things']\n",
    "# Remove Stop Words\n",
    "for r in range(len(Cleaned_doc)):\n",
    "    each_item = []\n",
    "    for t in Cleaned_doc[r].split():\n",
    "        if t not in stop_words:\n",
    "            each_item.append(t)\n",
    "    Cleaned_doc[r] = ' '.join(each_item) \n",
    "    print('-[Cleaned Text]: ', Cleaned_doc[r])"
   ]
  },
  {
   "cell_type": "code",
   "execution_count": 10,
   "id": "5439b71c",
   "metadata": {},
   "outputs": [
    {
     "name": "stdout",
     "output_type": "stream",
     "text": [
      "-[Cleaned Text Noun]:  nothing rehearsals gigs conductor dillon practise week choir months people joined believe releases room people song feels rest week\n",
      "-[Cleaned Text Noun]:  time value anthony roles tania program believe disappoints choirs spirit unity friendship inclusion talks diplomacy feedback hope times scenes lights tania appreciation choir members times stage group respect conductors position members example stage tania friend hers person tania friends person disability caution people story stories wealthy people strings money balance people resentment ashburton life opportunity support feel\n",
      "-[Cleaned Text Noun]:  people conductors\n",
      "-[Cleaned Text Noun]:  \n",
      "-[Cleaned Text Noun]:  note volunteers attendees visitors information voice pasme payment membership fees information attendees circumstances professional responsibility individuals confidentiality volunteers areas community members acceptance choir community choir attendees contribution nothing\n",
      "-[Cleaned Text Noun]:  survey\n",
      "-[Cleaned Text Noun]:  \n",
      "-[Cleaned Text Noun]:  \n",
      "-[Cleaned Text Noun]:  journey health home haven choir\n",
      "-[Cleaned Text Noun]:  uplifting\n",
      "-[Cleaned Text Noun]:  choir randwick people days people home\n",
      "-[Cleaned Text Noun]:  voice kind community\n",
      "-[Cleaned Text Noun]:  choir week people family matter feeling walk door keeps hospital\n",
      "-[Cleaned Text Noun]:  stage survey\n",
      "-[Cleaned Text Noun]:  choir comfort confidence pursue environment comfort confidence participants creativity return australia\n",
      "-[Cleaned Text Noun]:  choir impact members\n",
      "-[Cleaned Text Noun]:  \n",
      "-[Cleaned Text Noun]:  robert conductor kind\n",
      "-[Cleaned Text Noun]:  comments ashburton disconnect head office concerns activities\n",
      "-[Cleaned Text Noun]:  dillon\n",
      "-[Cleaned Text Noun]:  choir friends opportunity perceptions ability cath\n",
      "-[Cleaned Text Noun]:  snobby\n",
      "-[Cleaned Text Noun]:  times experience people others others tell conductor others work ways experience work groups patient times choir tickets events\n",
      "-[Cleaned Text Noun]:  work week choir\n",
      "-[Cleaned Text Noun]:  sessions conductor people help opportunity week sing starters times indication choir affiliations program sense track fuzzy community cost voice creativity example note creativity website groups investment time resources groups months expectation choir groups upfront expectations help group support choir group choir group help funds community funds\n",
      "-[Cleaned Text Noun]:  choir outlet person\n",
      "-[Cleaned Text Noun]:  cancer diagnosis moments treatment\n",
      "-[Cleaned Text Noun]:  wasn choir wouldn\n",
      "-[Cleaned Text Noun]:  start choir husband homes events community people faithful peace happiness\n",
      "-[Cleaned Text Noun]:  sing express personality abilities\n",
      "-[Cleaned Text Noun]:  choir night priority\n",
      "-[Cleaned Text Noun]:  discoveries\n",
      "-[Cleaned Text Noun]:  choir family family\n",
      "-[Cleaned Text Noun]:  \n",
      "-[Cleaned Text Noun]:  voice heart\n",
      "-[Cleaned Text Noun]:  escape stress work\n",
      "-[Cleaned Text Noun]:  focus tani display elements concern towards members staff speak concern members appalls\n",
      "-[Cleaned Text Noun]:  lives family term week community\n",
      "-[Cleaned Text Noun]:  choir connections\n",
      "-[Cleaned Text Noun]:  love directors people range skills warmth enthusiasm acceptance\n",
      "-[Cleaned Text Noun]:  person time lifts thoughts\n",
      "-[Cleaned Text Noun]:  delight\n",
      "-[Cleaned Text Noun]:  balm time life pleasure connect others music\n",
      "-[Cleaned Text Noun]:  conductor\n",
      "-[Cleaned Text Noun]:  carer choir support client enjoy time people inclusive client disability\n",
      "-[Cleaned Text Noun]:  choir week exceeds mass choir dillon choirs years leader calm tolerant superb teacher wouldn stay voice suggestions choristers survey rehearsals email points article website discover choir secretary post boss volunteer words fine survey rehearsal volunteer idea article year choir member people year members media forums interns universities facebook twitter articles venue planning note interns choir value members\n",
      "-[Cleaned Text Noun]:  leader skillful members singer keyboard player asset choir motivates helps\n",
      "-[Cleaned Text Noun]:  people songs wishlist class\n",
      "-[Cleaned Text Noun]:  \n",
      "-[Cleaned Text Noun]:  \n",
      "-[Cleaned Text Noun]:  mildura team\n",
      "-[Cleaned Text Noun]:  choir nights despair death husband years cancer\n",
      "-[Cleaned Text Noun]:  choir feel sing\n",
      "-[Cleaned Text Noun]:  \n",
      "-[Cleaned Text Noun]:  nights time week\n",
      "-[Cleaned Text Noun]:  conductor\n",
      "-[Cleaned Text Noun]:  bring communities\n",
      "-[Cleaned Text Noun]:  workshops members skills songs onwards songs\n",
      "-[Cleaned Text Noun]:  \n",
      "-[Cleaned Text Noun]:  conductor ashburton dillon\n"
     ]
    }
   ],
   "source": [
    "#Select only nouns\n",
    "Cleaned_doc_noun = Cleaned_doc\n",
    "for r in range(len(Cleaned_doc_noun)):\n",
    "    lines = Cleaned_doc[r]\n",
    "# function to test if something is a noun\n",
    "    is_noun = lambda pos: pos[:2] == 'NN' or pos == 'NNP' or pos == 'NNS' or pos == 'NNPS'\n",
    " # do the nlp stuff\n",
    "    tokenized = nltk.word_tokenize(lines)\n",
    "    nouns = [word for (word, pos) in nltk.pos_tag(tokenized) if is_noun(pos)] \n",
    "    Cleaned_doc_noun[r] = ' '.join(nouns) \n",
    "    print('-[Cleaned Text Noun]: ', Cleaned_doc_noun[r])"
   ]
  },
  {
   "cell_type": "code",
   "execution_count": 11,
   "id": "439b2382",
   "metadata": {},
   "outputs": [],
   "source": [
    "# 4.2 Term document matrix"
   ]
  },
  {
   "cell_type": "code",
   "execution_count": 12,
   "id": "c9d80cb5",
   "metadata": {},
   "outputs": [
    {
     "data": {
      "text/plain": [
       "<60x247 sparse matrix of type '<class 'numpy.int64'>'\n",
       "\twith 365 stored elements in Compressed Sparse Row format>"
      ]
     },
     "execution_count": 12,
     "metadata": {},
     "output_type": "execute_result"
    }
   ],
   "source": [
    "#Fit and transform the processed titles\n",
    "from sklearn.feature_extraction.text import CountVectorizer\n",
    "count_vectorizer = CountVectorizer() \n",
    "count_data = count_vectorizer.fit_transform(Cleaned_doc_noun)\n",
    "count_data"
   ]
  },
  {
   "cell_type": "code",
   "execution_count": 13,
   "id": "6d1df061",
   "metadata": {},
   "outputs": [
    {
     "data": {
      "image/png": "[encoded data removed]",
      "text/plain": [
       "<Figure size 1080x288 with 1 Axes>"
      ]
     },
     "metadata": {},
     "output_type": "display_data"
    }
   ],
   "source": [
    "#Visualise most common words\n",
    "import numpy as np\n",
    "import matplotlib.pyplot as plt\n",
    "import seaborn as sns\n",
    "pd.set_option(\"display.max_colwidth\", 200)\n",
    "\n",
    "terms = count_vectorizer.get_feature_names()\n",
    "# Count the popularity of words\n",
    "total_counts = np.zeros(len(terms))\n",
    "for t in count_data:\n",
    "    total_counts+=t.toarray()[0]\n",
    "count_dict = (zip(terms, total_counts))\n",
    "count_dict = sorted(count_dict, key=lambda x:x[1], reverse=True)[0:50] #Take the top 50 words\n",
    " \n",
    "words = [w[0] for w in count_dict]\n",
    "counts = [w[1] for w in count_dict]\n",
    "x_pos = np.arange(len(words))\n",
    " \n",
    "plt.figure(2, figsize=(15, 4))\n",
    "plt.subplot(title='50 most common words')\n",
    "sns.set_context(\"notebook\", font_scale=1.25, rc={\"lines.linewidth\": 2.5})\n",
    "sns.barplot(x_pos, counts, palette='husl')\n",
    "plt.xticks(x_pos, words, rotation=90) \n",
    "plt.xlabel('words')\n",
    "plt.ylabel('counts')\n",
    "plt.show()"
   ]
  },
  {
   "cell_type": "code",
   "execution_count": 14,
   "id": "3344dfef",
   "metadata": {},
   "outputs": [],
   "source": [
    "# 4.3/ Term selection"
   ]
  },
  {
   "cell_type": "code",
   "execution_count": 15,
   "id": "39b3b8c7",
   "metadata": {},
   "outputs": [
    {
     "name": "stdout",
     "output_type": "stream",
     "text": [
      "Number of Terms Remained:  64\n"
     ]
    },
    {
     "data": {
      "text/plain": [
       "<60x64 sparse matrix of type '<class 'numpy.int64'>'\n",
       "\twith 160 stored elements in Compressed Sparse Row format>"
      ]
     },
     "execution_count": 15,
     "metadata": {},
     "output_type": "execute_result"
    }
   ],
   "source": [
    "#Remove highly frequent as from above graph and infrequent words from the Dataset\n",
    "keepIndex = [];\n",
    "for t in range(len(total_counts)):\n",
    "    if total_counts[t] < 30 and total_counts[t] > 1:\n",
    "        keepIndex.append(t)\n",
    "\n",
    "print('Number of Terms Remained: ', len(keepIndex))\n",
    "\n",
    "#Save the remain ing term and frequency data\n",
    "ReducedTerm = [terms[t] for t in keepIndex]\n",
    "ReducedCount = count_data[:,keepIndex] \n",
    "ReducedCount"
   ]
  },
  {
   "cell_type": "code",
   "execution_count": 16,
   "id": "c87189bf",
   "metadata": {},
   "outputs": [],
   "source": [
    "#4.4. Topic number"
   ]
  },
  {
   "cell_type": "code",
   "execution_count": 17,
   "id": "fe2c1145",
   "metadata": {},
   "outputs": [
    {
     "name": "stdout",
     "output_type": "stream",
     "text": [
      "Requirement already satisfied: Cython in c:\\users\\nickn\\anaconda3\\lib\\site-packages (0.29.23)\n",
      "Requirement already satisfied: gensim in c:\\users\\nickn\\anaconda3\\lib\\site-packages (4.1.0)\n",
      "Requirement already satisfied: Cython==0.29.23 in c:\\users\\nickn\\anaconda3\\lib\\site-packages (from gensim) (0.29.23)\n",
      "Requirement already satisfied: numpy>=1.17.0 in c:\\users\\nickn\\anaconda3\\lib\\site-packages (from gensim) (1.19.5)\n",
      "Requirement already satisfied: smart-open>=1.8.1 in c:\\users\\nickn\\anaconda3\\lib\\site-packages (from gensim) (5.2.1)\n",
      "Requirement already satisfied: scipy>=0.18.1 in c:\\users\\nickn\\anaconda3\\lib\\site-packages (from gensim) (1.6.2)\n"
     ]
    }
   ],
   "source": [
    "#Install Gensim package\n",
    "!pip install Cython\n",
    "!pip install gensim"
   ]
  },
  {
   "cell_type": "code",
   "execution_count": 18,
   "id": "8a202f11",
   "metadata": {},
   "outputs": [
    {
     "name": "stdout",
     "output_type": "stream",
     "text": [
      "CLEANED TEXT NEW: \n",
      "['nothing', 'rehearsals', 'conductor', 'dillon', 'week', 'months', 'people', 'believe', 'people', 'week']\n",
      "['time', 'value', 'tania', 'program', 'believe', 'choirs', 'times', 'tania', 'members', 'times', 'stage', 'group', 'conductors', 'members', 'example', 'stage', 'tania', 'person', 'tania', 'friends', 'person', 'disability', 'people', 'people', 'people', 'ashburton', 'life', 'opportunity', 'support', 'feel']\n",
      "['people', 'conductors']\n",
      "[]\n",
      "['note', 'volunteers', 'attendees', 'information', 'voice', 'information', 'attendees', 'volunteers', 'community', 'members', 'acceptance', 'community', 'attendees', 'nothing']\n",
      "['survey']\n",
      "[]\n",
      "[]\n",
      "['home']\n",
      "[]\n",
      "['people', 'people', 'home']\n",
      "['voice', 'kind', 'community']\n",
      "['week', 'people', 'family']\n",
      "['stage', 'survey']\n",
      "['comfort', 'confidence', 'comfort', 'confidence', 'creativity']\n",
      "['members']\n",
      "[]\n",
      "['conductor', 'kind']\n",
      "['ashburton']\n",
      "['dillon']\n",
      "['friends', 'opportunity']\n",
      "[]\n",
      "['times', 'experience', 'people', 'others', 'others', 'conductor', 'others', 'work', 'experience', 'work', 'groups', 'times', 'events']\n",
      "['work', 'week']\n",
      "['conductor', 'people', 'help', 'opportunity', 'week', 'sing', 'times', 'program', 'community', 'voice', 'creativity', 'example', 'note', 'creativity', 'website', 'groups', 'time', 'groups', 'months', 'groups', 'help', 'group', 'support', 'group', 'group', 'help', 'funds', 'community', 'funds']\n",
      "['person']\n",
      "['cancer']\n",
      "['wouldn']\n",
      "['husband', 'events', 'community', 'people']\n",
      "['sing']\n",
      "[]\n",
      "[]\n",
      "['family', 'family']\n",
      "[]\n",
      "['voice']\n",
      "['work']\n",
      "['concern', 'members', 'concern', 'members']\n",
      "['family', 'week', 'community']\n",
      "[]\n",
      "['people', 'skills', 'acceptance']\n",
      "['person', 'time']\n",
      "[]\n",
      "['time', 'life', 'others']\n",
      "['conductor']\n",
      "['support', 'client', 'time', 'people', 'client', 'disability']\n",
      "['week', 'dillon', 'choirs', 'years', 'leader', 'wouldn', 'voice', 'survey', 'rehearsals', 'article', 'website', 'volunteer', 'survey', 'volunteer', 'article', 'year', 'people', 'year', 'members', 'interns', 'note', 'interns', 'value', 'members']\n",
      "['leader', 'members']\n",
      "['people', 'songs']\n",
      "[]\n",
      "[]\n",
      "[]\n",
      "['nights', 'husband', 'years', 'cancer']\n",
      "['feel', 'sing']\n",
      "[]\n",
      "['nights', 'time', 'week']\n",
      "['conductor']\n",
      "[]\n",
      "['members', 'skills', 'songs', 'songs']\n",
      "[]\n",
      "['conductor', 'ashburton', 'dillon']\n"
     ]
    }
   ],
   "source": [
    "#Data Preparation\n",
    "Cleaned_doc_noun_new = []\n",
    "print('CLEANED TEXT NEW: ')\n",
    "for r in range(len(Cleaned_doc_noun)):\n",
    "    each_item = []\n",
    "    for t in Cleaned_doc_noun[r].split():\n",
    " #Keep only terms included in ReducedTerm\n",
    "        if t in ReducedTerm:\n",
    "            each_item.append(t)\n",
    "    Cleaned_doc_noun_new.append(each_item) \n",
    "    print(Cleaned_doc_noun_new[r])"
   ]
  },
  {
   "cell_type": "code",
   "execution_count": 19,
   "id": "2b734f67",
   "metadata": {},
   "outputs": [
    {
     "name": "stdout",
     "output_type": "stream",
     "text": [
      "{'believe': 0, 'conductor': 1, 'dillon': 2, 'months': 3, 'nothing': 4, 'people': 5, 'rehearsals': 6, 'week': 7, 'ashburton': 8, 'choirs': 9, 'conductors': 10, 'disability': 11, 'example': 12, 'feel': 13, 'friends': 14, 'group': 15, 'life': 16, 'members': 17, 'opportunity': 18, 'person': 19, 'program': 20, 'stage': 21, 'support': 22, 'tania': 23, 'time': 24, 'times': 25, 'value': 26, 'acceptance': 27, 'attendees': 28, 'community': 29, 'information': 30, 'note': 31, 'voice': 32, 'volunteers': 33, 'survey': 34, 'home': 35, 'kind': 36, 'family': 37, 'comfort': 38, 'confidence': 39, 'creativity': 40, 'events': 41, 'experience': 42, 'groups': 43, 'others': 44, 'work': 45, 'funds': 46, 'help': 47, 'sing': 48, 'website': 49, 'cancer': 50, 'wouldn': 51, 'husband': 52, 'concern': 53, 'skills': 54, 'client': 55, 'article': 56, 'interns': 57, 'leader': 58, 'volunteer': 59, 'year': 60, 'years': 61, 'songs': 62, 'nights': 63}\n"
     ]
    }
   ],
   "source": [
    "import gensim.corpora as corpora\n",
    "# Construct term dictionary in the format \"Term : Index\"\n",
    "id2word = corpora.Dictionary(Cleaned_doc_noun_new)\n",
    "print(id2word.token2id)"
   ]
  },
  {
   "cell_type": "code",
   "execution_count": 20,
   "id": "0a93a82d",
   "metadata": {},
   "outputs": [
    {
     "name": "stdout",
     "output_type": "stream",
     "text": [
      "[[(0, 1), (1, 1), (2, 1), (3, 1), (4, 1), (5, 2), (6, 1), (7, 2)], [(0, 1), (5, 3), (8, 1), (9, 1), (10, 1), (11, 1), (12, 1), (13, 1), (14, 1), (15, 1), (16, 1), (17, 2), (18, 1), (19, 2), (20, 1), (21, 2), (22, 1), (23, 4), (24, 1), (25, 2), (26, 1)], [(5, 1), (10, 1)], [], [(4, 1), (17, 1), (27, 1), (28, 3), (29, 2), (30, 2), (31, 1), (32, 1), (33, 2)], [(34, 1)], [], [], [(35, 1)], [], [(5, 2), (35, 1)], [(29, 1), (32, 1), (36, 1)], [(5, 1), (7, 1), (37, 1)], [(21, 1), (34, 1)], [(38, 2), (39, 2), (40, 1)], [(17, 1)], [], [(1, 1), (36, 1)], [(8, 1)], [(2, 1)], [(14, 1), (18, 1)], [], [(1, 1), (5, 1), (25, 2), (41, 1), (42, 2), (43, 1), (44, 3), (45, 2)], [(7, 1), (45, 1)], [(1, 1), (3, 1), (5, 1), (7, 1), (12, 1), (15, 3), (18, 1), (20, 1), (22, 1), (24, 1), (25, 1), (29, 2), (31, 1), (32, 1), (40, 2), (43, 3), (46, 2), (47, 3), (48, 1), (49, 1)], [(19, 1)], [(50, 1)], [(51, 1)], [(5, 1), (29, 1), (41, 1), (52, 1)], [(48, 1)], [], [], [(37, 2)], [], [(32, 1)], [(45, 1)], [(17, 2), (53, 2)], [(7, 1), (29, 1), (37, 1)], [], [(5, 1), (27, 1), (54, 1)], [(19, 1), (24, 1)], [], [(16, 1), (24, 1), (44, 1)], [(1, 1)], [(5, 1), (11, 1), (22, 1), (24, 1), (55, 2)], [(2, 1), (5, 1), (6, 1), (7, 1), (9, 1), (17, 2), (26, 1), (31, 1), (32, 1), (34, 2), (49, 1), (51, 1), (56, 2), (57, 2), (58, 1), (59, 2), (60, 2), (61, 1)], [(17, 1), (58, 1)], [(5, 1), (62, 1)], [], [], [], [(50, 1), (52, 1), (61, 1), (63, 1)], [(13, 1), (48, 1)], [], [(7, 1), (24, 1), (63, 1)], [(1, 1)], [], [(17, 1), (54, 1), (62, 2)], [], [(1, 1), (2, 1), (8, 1)]]\n"
     ]
    }
   ],
   "source": [
    "#Bag of Word Representation\n",
    "Corpus = [id2word.doc2bow(text) for text in Cleaned_doc_noun_new]\n",
    "print(Corpus)"
   ]
  },
  {
   "cell_type": "code",
   "execution_count": 21,
   "id": "554f9d0b",
   "metadata": {},
   "outputs": [
    {
     "name": "stdout",
     "output_type": "stream",
     "text": [
      "[(0,\n",
      "  '0.129*\"family\" + 0.129*\"week\" + 0.129*\"community\" + 0.129*\"ashburton\" + '\n",
      "  '0.008*\"conductor\" + 0.008*\"people\" + 0.008*\"work\" + 0.008*\"members\" + '\n",
      "  '0.008*\"person\" + 0.008*\"dillon\"'),\n",
      " (1,\n",
      "  '0.115*\"others\" + 0.115*\"time\" + 0.115*\"life\" + 0.115*\"week\" + 0.115*\"work\" '\n",
      "  '+ 0.007*\"conductor\" + 0.007*\"people\" + 0.007*\"person\" + 0.007*\"ashburton\" + '\n",
      "  '0.007*\"home\"'),\n",
      " (2,\n",
      "  '0.159*\"others\" + 0.107*\"experience\" + 0.107*\"times\" + 0.107*\"work\" + '\n",
      "  '0.107*\"conductor\" + 0.055*\"events\" + 0.055*\"groups\" + 0.055*\"people\" + '\n",
      "  '0.055*\"kind\" + 0.003*\"survey\"'),\n",
      " (3,\n",
      "  '0.361*\"members\" + 0.183*\"concern\" + 0.095*\"leader\" + 0.006*\"conductor\" + '\n",
      "  '0.006*\"people\" + 0.006*\"sing\" + 0.006*\"survey\" + 0.006*\"week\" + '\n",
      "  '0.006*\"ashburton\" + 0.006*\"person\"'),\n",
      " (4,\n",
      "  '0.107*\"time\" + 0.107*\"songs\" + 0.107*\"skills\" + 0.107*\"family\" + '\n",
      "  '0.055*\"members\" + 0.055*\"acceptance\" + 0.055*\"person\" + 0.055*\"week\" + '\n",
      "  '0.055*\"nights\" + 0.055*\"people\"'),\n",
      " (5,\n",
      "  '0.147*\"community\" + 0.147*\"voice\" + 0.147*\"kind\" + 0.009*\"conductor\" + '\n",
      "  '0.009*\"people\" + 0.009*\"work\" + 0.009*\"sing\" + 0.009*\"week\" + '\n",
      "  '0.009*\"members\" + 0.009*\"ashburton\"'),\n",
      " (6,\n",
      "  '0.088*\"creativity\" + 0.082*\"comfort\" + 0.082*\"confidence\" + 0.073*\"groups\" '\n",
      "  '+ 0.067*\"help\" + 0.064*\"group\" + 0.045*\"funds\" + 0.042*\"community\" + '\n",
      "  '0.028*\"opportunity\" + 0.027*\"program\"'),\n",
      " (7,\n",
      "  '0.135*\"client\" + 0.135*\"conductor\" + 0.070*\"disability\" + 0.070*\"time\" + '\n",
      "  '0.070*\"people\" + 0.070*\"dillon\" + 0.070*\"ashburton\" + 0.070*\"support\" + '\n",
      "  '0.070*\"sing\" + 0.004*\"work\"'),\n",
      " (8,\n",
      "  '0.066*\"survey\" + 0.057*\"voice\" + 0.045*\"interns\" + 0.045*\"members\" + '\n",
      "  '0.045*\"article\" + 0.045*\"year\" + 0.045*\"volunteer\" + 0.045*\"wouldn\" + '\n",
      "  '0.033*\"website\" + 0.033*\"group\"'),\n",
      " (9,\n",
      "  '0.016*\"conductor\" + 0.016*\"people\" + 0.016*\"work\" + 0.016*\"members\" + '\n",
      "  '0.016*\"week\" + 0.016*\"person\" + 0.016*\"ashburton\" + 0.016*\"sing\" + '\n",
      "  '0.016*\"voice\" + 0.016*\"cancer\"'),\n",
      " (10,\n",
      "  '0.170*\"survey\" + 0.170*\"stage\" + 0.011*\"conductor\" + 0.011*\"people\" + '\n",
      "  '0.011*\"home\" + 0.011*\"dillon\" + 0.011*\"family\" + 0.011*\"week\" + '\n",
      "  '0.011*\"sing\" + 0.011*\"members\"'),\n",
      " (11,\n",
      "  '0.148*\"people\" + 0.089*\"attendees\" + 0.060*\"nothing\" + 0.060*\"week\" + '\n",
      "  '0.060*\"volunteers\" + 0.060*\"community\" + 0.060*\"information\" + '\n",
      "  '0.031*\"months\" + 0.031*\"rehearsals\" + 0.031*\"acceptance\"'),\n",
      " (12,\n",
      "  '0.111*\"people\" + 0.094*\"cancer\" + 0.056*\"friends\" + 0.055*\"opportunity\" + '\n",
      "  '0.055*\"feel\" + 0.049*\"nights\" + 0.049*\"husband\" + 0.049*\"family\" + '\n",
      "  '0.049*\"week\" + 0.049*\"songs\"'),\n",
      " (13,\n",
      "  '0.110*\"people\" + 0.094*\"tania\" + 0.053*\"person\" + 0.052*\"members\" + '\n",
      "  '0.047*\"stage\" + 0.046*\"times\" + 0.038*\"husband\" + 0.038*\"events\" + '\n",
      "  '0.038*\"community\" + 0.028*\"ashburton\"'),\n",
      " (14,\n",
      "  '0.090*\"tania\" + 0.089*\"home\" + 0.057*\"people\" + 0.048*\"stage\" + '\n",
      "  '0.048*\"times\" + 0.038*\"members\" + 0.035*\"person\" + 0.029*\"example\" + '\n",
      "  '0.029*\"value\" + 0.028*\"support\"')]\n"
     ]
    }
   ],
   "source": [
    "#Gensim LDA Model\n",
    "import gensim\n",
    "from gensim.models.ldamodel import LdaModel\n",
    "from pprint import pprint\n",
    "#Train model using bag of word reprentation\n",
    "lda_model = gensim.models.ldamodel.LdaModel(corpus=Corpus,\n",
    " id2word=id2word,\n",
    "num_topics=15,\n",
    "random_state=100)\n",
    "#Print the Keyword in the 10 topics\n",
    "pprint(lda_model.print_topics(num_words=10))\n",
    "doc_lda = lda_model[Corpus]"
   ]
  },
  {
   "cell_type": "code",
   "execution_count": null,
   "id": "fdd4910b",
   "metadata": {},
   "outputs": [],
   "source": [
    "#Compute topic coherence sore\n",
    "from gensim.models import CoherenceModel\n",
    "# Compute Coherence Score. Note: that CoherenceModel require \n",
    "# text input format (Cleaned_doc_new) instead of bag of word \n",
    "coherence_model_lda = CoherenceModel(model=lda_model, \n",
    " texts=Cleaned_doc_noun_new, \n",
    "dictionary=id2word, \n",
    "coherence='c_v')\n",
    "coherence_lda = coherence_model_lda.get_coherence()\n",
    "print('\\nCoherence Score: ', coherence_lda)"
   ]
  },
  {
   "cell_type": "code",
   "execution_count": null,
   "id": "8bef7f7d",
   "metadata": {},
   "outputs": [],
   "source": [
    "#Experiment with Topic Numbers\n",
    "#Evaluation models with topics numbers from 2 to 10\n",
    "Topics = list(range(2,16,1))\n",
    "coherence_scores = []\n",
    "Trained_Models = []\n",
    "for top in Topics:\n",
    " lda_model = gensim.models.ldamodel.LdaModel(corpus=Corpus,\n",
    " id2word=id2word,\n",
    "num_topics=top,\n",
    "random_state=100)\n",
    " #Keep the trained models\n",
    " Trained_Models.append(lda_model)\n",
    " #Compute coherence score for each model\n",
    " coherence_model_lda = CoherenceModel(model=lda_model, \n",
    " texts=Cleaned_doc_noun_new, \n",
    "dictionary=id2word, \n",
    "coherence='c_v')\n",
    " coherence = coherence_model_lda.get_coherence()\n",
    " #Save and print the coherence scores \n",
    " coherence_scores.append(coherence)\n",
    " print('Topic Number: {0} -- Coherence: {1}'.format(top, coherence))"
   ]
  },
  {
   "cell_type": "code",
   "execution_count": null,
   "id": "a087d32f",
   "metadata": {},
   "outputs": [],
   "source": [
    "plt.plot(coherence_scores)\n",
    "plt.xticks(range(0,len(Topics)),Topics)\n",
    "plt.title('Coherence Score by Topic Number', fontsize=16)\n",
    "plt.xlabel('Topic Number')\n",
    "plt.ylabel('Coherence')"
   ]
  },
  {
   "cell_type": "code",
   "execution_count": null,
   "id": "c9557820",
   "metadata": {},
   "outputs": [],
   "source": [
    "import numpy\n",
    "lda_model = Trained_Models[numpy.argmax(coherence_scores)]\n",
    "#Show top 10 words in each topic\n",
    "lda_model.show_topics(num_words=10)"
   ]
  },
  {
   "cell_type": "code",
   "execution_count": null,
   "id": "231ce704",
   "metadata": {},
   "outputs": [],
   "source": [
    "#4.5/ LDA Model\n",
    "#Train LDA Model with 12 topics\n",
    "from sklearn.decomposition import LatentDirichletAllocation as LDA\n",
    "# Tweak the two parameters below\n",
    "number_topics = 12\n",
    "lda = LDA(n_components=number_topics, n_jobs=-1)\n",
    "lda.fit(ReducedCount)\n",
    "#Trained LDA model\n",
    "lda.components_"
   ]
  },
  {
   "cell_type": "code",
   "execution_count": null,
   "id": "dda27677",
   "metadata": {},
   "outputs": [],
   "source": [
    "#Word Probablities by Topics\n",
    "Word_Topics_Pro = lda.components_ / lda.components_.sum(axis=1)[:, np.newaxis]\n",
    "print(Word_Topics_Pro)"
   ]
  },
  {
   "cell_type": "code",
   "execution_count": null,
   "id": "37dfa7ae",
   "metadata": {},
   "outputs": [],
   "source": [
    "#Extract and view the top words in each topic\n",
    "for topic_idx, topic in enumerate(Word_Topics_Pro):\n",
    "    print(\"\\nTopic #%d:\" % topic_idx)\n",
    "    count_dict = (zip(ReducedTerm, topic))\n",
    "    count_dict = sorted(count_dict, key=lambda x:x[1], reverse=True)[0:5]\n",
    "    for w in count_dict:\n",
    "        print(w[0], ': {0:.3f}'.format(w[1]))"
   ]
  },
  {
   "cell_type": "code",
   "execution_count": null,
   "id": "7d8332b0",
   "metadata": {},
   "outputs": [],
   "source": [
    "# View full Word Probabilities by Topic Matrix\n",
    "df_topic_keywords = pd.DataFrame(Word_Topics_Pro)\n",
    "df_topic_keywords.columns = ReducedTerm\n",
    "df_topic_keywords"
   ]
  },
  {
   "cell_type": "code",
   "execution_count": null,
   "id": "80150728",
   "metadata": {},
   "outputs": [],
   "source": [
    "!pip install wordcloud"
   ]
  },
  {
   "cell_type": "code",
   "execution_count": null,
   "id": "90d20a1e",
   "metadata": {},
   "outputs": [],
   "source": [
    "from wordcloud import WordCloud\n",
    "import math\n",
    "rows = math.ceil(len(Word_Topics_Pro)/4)\n",
    "fig, ax = plt.subplots(rows, 4, figsize=(15,2.5*rows))\n",
    "[axi.set_axis_off() for axi in ax.ravel()]\n",
    "for topic_idx, topic in enumerate(Word_Topics_Pro):\n",
    " count_dict = (zip(ReducedTerm, topic))\n",
    " count_dict = sorted(count_dict, key=lambda x:x[1], reverse=True)\n",
    " # convert to dictionary type - keep top 10 words\n",
    " Word_Frequency = dict(count_dict[0:10])\n",
    " # generate word cloud\n",
    " wordcloud = WordCloud(background_color=\"white\").generate_from_frequencies(Word_Frequency)\n",
    " # visualize word cloud in figure\n",
    " subfig_Row = math.floor(topic_idx/4)\n",
    " subfig_Col = math.ceil(topic_idx%4)\n",
    " ax[subfig_Row,subfig_Col].imshow(wordcloud)\n",
    " ax[subfig_Row,subfig_Col].set_title(\"Topic {}\".format(topic_idx+1)) \n",
    "plt.show() "
   ]
  },
  {
   "cell_type": "code",
   "execution_count": null,
   "id": "bc2872a1",
   "metadata": {},
   "outputs": [],
   "source": [
    "!pip install gensim\n",
    "import pyLDAvis\n",
    "import pyLDAvis.gensim_models"
   ]
  },
  {
   "cell_type": "code",
   "execution_count": null,
   "id": "ec9b1a53",
   "metadata": {},
   "outputs": [],
   "source": [
    "###Visualize topics-keywords of LDA###\n",
    "# To plot at Jupyter notebook\n",
    "import pyLDAvis\n",
    "import pyLDAvis.gensim_models\n",
    "pyLDAvis.enable_notebook()\n",
    "plot = pyLDAvis.gensim_models.prepare(lda_model, Corpus, dictionary= id2word)\n",
    "\n"
   ]
  },
  {
   "cell_type": "code",
   "execution_count": null,
   "id": "ca0626dd",
   "metadata": {},
   "outputs": [],
   "source": []
  },
  {
   "cell_type": "code",
   "execution_count": null,
   "id": "fdff9a7c",
   "metadata": {},
   "outputs": [],
   "source": []
  }
 ],
 "metadata": {
  "kernelspec": {
   "display_name": "Python 3",
   "language": "python",
   "name": "python3"
  },
  "language_info": {
   "codemirror_mode": {
    "name": "ipython",
    "version": 3
   },
   "file_extension": ".py",
   "mimetype": "text/x-python",
   "name": "python",
   "nbconvert_exporter": "python",
   "pygments_lexer": "ipython3",
   "version": "3.8.8"
  }
 },
 "nbformat": 4,
 "nbformat_minor": 5
}
