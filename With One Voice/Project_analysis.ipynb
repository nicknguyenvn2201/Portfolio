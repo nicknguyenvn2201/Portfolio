{
 "cells": [
  {
   "cell_type": "code",
   "execution_count": 6,
   "id": "2da18842",
   "metadata": {},
   "outputs": [],
   "source": [
    "import numpy as np\n",
    "import pandas as pd\n",
    "import matplotlib.pyplot as plt\n",
    "import seaborn as sns\n",
    "sns.set_theme(style='whitegrid')"
   ]
  },
  {
   "cell_type": "code",
   "execution_count": 7,
   "id": "ee4cb69b",
   "metadata": {},
   "outputs": [],
   "source": [
    "# Load files 2018,2019,2020 and 2021\n",
    "da18 = pd.read_excel('2018.xlsx')\n",
    "da19 = pd.read_excel('2019.xlsx')\n",
    "da20 = pd.read_excel('2020.xlsx')\n",
    "da21 = pd.read_excel('2021.xlsx')"
   ]
  },
  {
   "cell_type": "code",
   "execution_count": 8,
   "id": "e352bd36",
   "metadata": {},
   "outputs": [],
   "source": [
    "# Format date type\n",
    "da18['End Date'] = pd.to_datetime(da18['End Date'], format='%d-%m-%Y %H:%M:%S', infer_datetime_format=True)\n",
    "da19['End Date'] = pd.to_datetime(da19['End Date'], format='%d-%m-%Y %H:%M:%S', infer_datetime_format=True)\n",
    "da20['End Date'] = pd.to_datetime(da20['End Date'], format='%d-%m-%Y %H:%M:%S', infer_datetime_format=True)\n",
    "da21['End Date'] = pd.to_datetime(da21['End Date'], format='%d-%m-%Y %H:%M:%S', infer_datetime_format=True)\n"
   ]
  },
  {
   "cell_type": "code",
   "execution_count": 9,
   "id": "f849a9be",
   "metadata": {},
   "outputs": [],
   "source": [
    "# Rename conductor feedback\n",
    "da18.rename(columns = {'Are there any other comments you would like to make about the value of the Choir to you?':'conductorfeedback'},inplace = True)\n",
    "da19.rename(columns = {'3.Is there anything that you particularly like about the choir?':'conductorfeedback'},inplace = True)\n",
    "da20.rename(columns = {'Do you have any feedback for us about our live sessions?':'conductorfeedback'},inplace = True)\n",
    "da21.rename(columns = {'9. What is the best thing about the choir? ___________':'conductorfeedback'},inplace = True)"
   ]
  },
  {
   "cell_type": "code",
   "execution_count": 10,
   "id": "269d82a8",
   "metadata": {},
   "outputs": [],
   "source": [
    "mod_18 = da18.dropna( how='any',subset=['conductorfeedback'])\n",
    "mod_19 = da19.dropna( how='any',subset=['conductorfeedback'])\n",
    "mod_20 = da20.dropna( how='any',subset=['conductorfeedback'])\n",
    "mod_21 = da21.dropna( how='any',subset=['conductorfeedback'])"
   ]
  },
  {
   "cell_type": "code",
   "execution_count": 11,
   "id": "8090b0ef",
   "metadata": {},
   "outputs": [],
   "source": [
    "# Create a new dataframe include conductor feedback and End date\n",
    "a18 = mod_18.loc[:,['End Date','conductorfeedback']]\n",
    "a19 = mod_19.loc[:,['End Date','conductorfeedback']]\n",
    "a20 = mod_20.loc[:,['End Date','conductorfeedback']]\n",
    "a21 = mod_21.loc[:,['End Date','conductorfeedback']]"
   ]
  },
  {
   "cell_type": "code",
   "execution_count": 12,
   "id": "fa9e3673",
   "metadata": {},
   "outputs": [],
   "source": [
    "# Convert date into year\n",
    "a18['End Date'] = a19['End Date'].dt.year\n",
    "a19['End Date'] = a19['End Date'].dt.year\n",
    "a20['End Date'] = a20['End Date'].dt.year\n",
    "a21['End Date']= a21['End Date'].dt.year"
   ]
  },
  {
   "cell_type": "code",
   "execution_count": 13,
   "id": "77bc34ea",
   "metadata": {},
   "outputs": [
    {
     "name": "stderr",
     "output_type": "stream",
     "text": [
      "[nltk_data] Downloading package vader_lexicon to\n",
      "[nltk_data]     C:\\Users\\nickn\\AppData\\Roaming\\nltk_data...\n",
      "[nltk_data]   Package vader_lexicon is already up-to-date!\n"
     ]
    }
   ],
   "source": [
    "import nltk\n",
    "nltk.download('vader_lexicon')\n",
    "from nltk.sentiment.vader import SentimentIntensityAnalyzer\n",
    "sid = SentimentIntensityAnalyzer()"
   ]
  },
  {
   "cell_type": "code",
   "execution_count": 14,
   "id": "1d860245",
   "metadata": {},
   "outputs": [
    {
     "data": {
      "text/html": [
       "<div>\n",
       "<style scoped>\n",
       "    .dataframe tbody tr th:only-of-type {\n",
       "        vertical-align: middle;\n",
       "    }\n",
       "\n",
       "    .dataframe tbody tr th {\n",
       "        vertical-align: top;\n",
       "    }\n",
       "\n",
       "    .dataframe thead th {\n",
       "        text-align: right;\n",
       "    }\n",
       "</style>\n",
       "<table border=\"1\" class=\"dataframe\">\n",
       "  <thead>\n",
       "    <tr style=\"text-align: right;\">\n",
       "      <th></th>\n",
       "      <th>End Date</th>\n",
       "      <th>conductorfeedback</th>\n",
       "      <th>scores</th>\n",
       "    </tr>\n",
       "  </thead>\n",
       "  <tbody>\n",
       "    <tr>\n",
       "      <th>0</th>\n",
       "      <td>2019.0</td>\n",
       "      <td>Nothing too particular, though it's worth reit...</td>\n",
       "      <td>{'neg': 0.0, 'neu': 0.742, 'pos': 0.258, 'comp...</td>\n",
       "    </tr>\n",
       "    <tr>\n",
       "      <th>1</th>\n",
       "      <td>2019.0</td>\n",
       "      <td>Lydia has been one of the best things to happe...</td>\n",
       "      <td>{'neg': 0.052, 'neu': 0.687, 'pos': 0.261, 'co...</td>\n",
       "    </tr>\n",
       "    <tr>\n",
       "      <th>4</th>\n",
       "      <td>2019.0</td>\n",
       "      <td>Good people, fantastic conductors.</td>\n",
       "      <td>{'neg': 0.0, 'neu': 0.235, 'pos': 0.765, 'comp...</td>\n",
       "    </tr>\n",
       "    <tr>\n",
       "      <th>6</th>\n",
       "      <td>2019.0</td>\n",
       "      <td>No.</td>\n",
       "      <td>{'neg': 1.0, 'neu': 0.0, 'pos': 0.0, 'compound...</td>\n",
       "    </tr>\n",
       "    <tr>\n",
       "      <th>8</th>\n",
       "      <td>2019.0</td>\n",
       "      <td>Please note that we are volunteers who work at...</td>\n",
       "      <td>{'neg': 0.0, 'neu': 0.88, 'pos': 0.12, 'compou...</td>\n",
       "    </tr>\n",
       "  </tbody>\n",
       "</table>\n",
       "</div>"
      ],
      "text/plain": [
       "   End Date                                  conductorfeedback  \\\n",
       "0    2019.0  Nothing too particular, though it's worth reit...   \n",
       "1    2019.0  Lydia has been one of the best things to happe...   \n",
       "4    2019.0                 Good people, fantastic conductors.   \n",
       "6    2019.0                                                No.   \n",
       "8    2019.0  Please note that we are volunteers who work at...   \n",
       "\n",
       "                                              scores  \n",
       "0  {'neg': 0.0, 'neu': 0.742, 'pos': 0.258, 'comp...  \n",
       "1  {'neg': 0.052, 'neu': 0.687, 'pos': 0.261, 'co...  \n",
       "4  {'neg': 0.0, 'neu': 0.235, 'pos': 0.765, 'comp...  \n",
       "6  {'neg': 1.0, 'neu': 0.0, 'pos': 0.0, 'compound...  \n",
       "8  {'neg': 0.0, 'neu': 0.88, 'pos': 0.12, 'compou...  "
      ]
     },
     "execution_count": 14,
     "metadata": {},
     "output_type": "execute_result"
    }
   ],
   "source": [
    "# 2018\n",
    "a18['scores'] = a18['conductorfeedback'].apply(lambda conductorfeedback: sid.polarity_scores(conductorfeedback))\n",
    "a18.head()"
   ]
  },
  {
   "cell_type": "code",
   "execution_count": 15,
   "id": "624ed65f",
   "metadata": {},
   "outputs": [
    {
     "data": {
      "text/html": [
       "<div>\n",
       "<style scoped>\n",
       "    .dataframe tbody tr th:only-of-type {\n",
       "        vertical-align: middle;\n",
       "    }\n",
       "\n",
       "    .dataframe tbody tr th {\n",
       "        vertical-align: top;\n",
       "    }\n",
       "\n",
       "    .dataframe thead th {\n",
       "        text-align: right;\n",
       "    }\n",
       "</style>\n",
       "<table border=\"1\" class=\"dataframe\">\n",
       "  <thead>\n",
       "    <tr style=\"text-align: right;\">\n",
       "      <th></th>\n",
       "      <th>End Date</th>\n",
       "      <th>conductorfeedback</th>\n",
       "      <th>scores</th>\n",
       "      <th>compound</th>\n",
       "    </tr>\n",
       "  </thead>\n",
       "  <tbody>\n",
       "    <tr>\n",
       "      <th>0</th>\n",
       "      <td>2019.0</td>\n",
       "      <td>Nothing too particular, though it's worth reit...</td>\n",
       "      <td>{'neg': 0.0, 'neu': 0.742, 'pos': 0.258, 'comp...</td>\n",
       "      <td>0.9883</td>\n",
       "    </tr>\n",
       "    <tr>\n",
       "      <th>1</th>\n",
       "      <td>2019.0</td>\n",
       "      <td>Lydia has been one of the best things to happe...</td>\n",
       "      <td>{'neg': 0.052, 'neu': 0.687, 'pos': 0.261, 'co...</td>\n",
       "      <td>0.9981</td>\n",
       "    </tr>\n",
       "    <tr>\n",
       "      <th>4</th>\n",
       "      <td>2019.0</td>\n",
       "      <td>Good people, fantastic conductors.</td>\n",
       "      <td>{'neg': 0.0, 'neu': 0.235, 'pos': 0.765, 'comp...</td>\n",
       "      <td>0.7579</td>\n",
       "    </tr>\n",
       "    <tr>\n",
       "      <th>6</th>\n",
       "      <td>2019.0</td>\n",
       "      <td>No.</td>\n",
       "      <td>{'neg': 1.0, 'neu': 0.0, 'pos': 0.0, 'compound...</td>\n",
       "      <td>-0.2960</td>\n",
       "    </tr>\n",
       "    <tr>\n",
       "      <th>8</th>\n",
       "      <td>2019.0</td>\n",
       "      <td>Please note that we are volunteers who work at...</td>\n",
       "      <td>{'neg': 0.0, 'neu': 0.88, 'pos': 0.12, 'compou...</td>\n",
       "      <td>0.8422</td>\n",
       "    </tr>\n",
       "  </tbody>\n",
       "</table>\n",
       "</div>"
      ],
      "text/plain": [
       "   End Date                                  conductorfeedback  \\\n",
       "0    2019.0  Nothing too particular, though it's worth reit...   \n",
       "1    2019.0  Lydia has been one of the best things to happe...   \n",
       "4    2019.0                 Good people, fantastic conductors.   \n",
       "6    2019.0                                                No.   \n",
       "8    2019.0  Please note that we are volunteers who work at...   \n",
       "\n",
       "                                              scores  compound  \n",
       "0  {'neg': 0.0, 'neu': 0.742, 'pos': 0.258, 'comp...    0.9883  \n",
       "1  {'neg': 0.052, 'neu': 0.687, 'pos': 0.261, 'co...    0.9981  \n",
       "4  {'neg': 0.0, 'neu': 0.235, 'pos': 0.765, 'comp...    0.7579  \n",
       "6  {'neg': 1.0, 'neu': 0.0, 'pos': 0.0, 'compound...   -0.2960  \n",
       "8  {'neg': 0.0, 'neu': 0.88, 'pos': 0.12, 'compou...    0.8422  "
      ]
     },
     "execution_count": 15,
     "metadata": {},
     "output_type": "execute_result"
    }
   ],
   "source": [
    "a18['compound']  = a18['scores'].apply(lambda score_dict: score_dict['compound'])\n",
    "a18.head()"
   ]
  },
  {
   "cell_type": "code",
   "execution_count": 16,
   "id": "c291e1eb",
   "metadata": {},
   "outputs": [
    {
     "data": {
      "text/html": [
       "<div>\n",
       "<style scoped>\n",
       "    .dataframe tbody tr th:only-of-type {\n",
       "        vertical-align: middle;\n",
       "    }\n",
       "\n",
       "    .dataframe tbody tr th {\n",
       "        vertical-align: top;\n",
       "    }\n",
       "\n",
       "    .dataframe thead th {\n",
       "        text-align: right;\n",
       "    }\n",
       "</style>\n",
       "<table border=\"1\" class=\"dataframe\">\n",
       "  <thead>\n",
       "    <tr style=\"text-align: right;\">\n",
       "      <th></th>\n",
       "      <th>End Date</th>\n",
       "      <th>conductorfeedback</th>\n",
       "      <th>scores</th>\n",
       "      <th>compound</th>\n",
       "      <th>comp_score</th>\n",
       "    </tr>\n",
       "  </thead>\n",
       "  <tbody>\n",
       "    <tr>\n",
       "      <th>0</th>\n",
       "      <td>2019.0</td>\n",
       "      <td>Nothing too particular, though it's worth reit...</td>\n",
       "      <td>{'neg': 0.0, 'neu': 0.742, 'pos': 0.258, 'comp...</td>\n",
       "      <td>0.9883</td>\n",
       "      <td>pos</td>\n",
       "    </tr>\n",
       "    <tr>\n",
       "      <th>1</th>\n",
       "      <td>2019.0</td>\n",
       "      <td>Lydia has been one of the best things to happe...</td>\n",
       "      <td>{'neg': 0.052, 'neu': 0.687, 'pos': 0.261, 'co...</td>\n",
       "      <td>0.9981</td>\n",
       "      <td>pos</td>\n",
       "    </tr>\n",
       "    <tr>\n",
       "      <th>4</th>\n",
       "      <td>2019.0</td>\n",
       "      <td>Good people, fantastic conductors.</td>\n",
       "      <td>{'neg': 0.0, 'neu': 0.235, 'pos': 0.765, 'comp...</td>\n",
       "      <td>0.7579</td>\n",
       "      <td>pos</td>\n",
       "    </tr>\n",
       "    <tr>\n",
       "      <th>6</th>\n",
       "      <td>2019.0</td>\n",
       "      <td>No.</td>\n",
       "      <td>{'neg': 1.0, 'neu': 0.0, 'pos': 0.0, 'compound...</td>\n",
       "      <td>-0.2960</td>\n",
       "      <td>neg</td>\n",
       "    </tr>\n",
       "    <tr>\n",
       "      <th>8</th>\n",
       "      <td>2019.0</td>\n",
       "      <td>Please note that we are volunteers who work at...</td>\n",
       "      <td>{'neg': 0.0, 'neu': 0.88, 'pos': 0.12, 'compou...</td>\n",
       "      <td>0.8422</td>\n",
       "      <td>pos</td>\n",
       "    </tr>\n",
       "  </tbody>\n",
       "</table>\n",
       "</div>"
      ],
      "text/plain": [
       "   End Date                                  conductorfeedback  \\\n",
       "0    2019.0  Nothing too particular, though it's worth reit...   \n",
       "1    2019.0  Lydia has been one of the best things to happe...   \n",
       "4    2019.0                 Good people, fantastic conductors.   \n",
       "6    2019.0                                                No.   \n",
       "8    2019.0  Please note that we are volunteers who work at...   \n",
       "\n",
       "                                              scores  compound comp_score  \n",
       "0  {'neg': 0.0, 'neu': 0.742, 'pos': 0.258, 'comp...    0.9883        pos  \n",
       "1  {'neg': 0.052, 'neu': 0.687, 'pos': 0.261, 'co...    0.9981        pos  \n",
       "4  {'neg': 0.0, 'neu': 0.235, 'pos': 0.765, 'comp...    0.7579        pos  \n",
       "6  {'neg': 1.0, 'neu': 0.0, 'pos': 0.0, 'compound...   -0.2960        neg  \n",
       "8  {'neg': 0.0, 'neu': 0.88, 'pos': 0.12, 'compou...    0.8422        pos  "
      ]
     },
     "execution_count": 16,
     "metadata": {},
     "output_type": "execute_result"
    }
   ],
   "source": [
    "a18['comp_score'] = a18['compound'].apply(lambda c: 'pos' if c >=0 else 'neg')\n",
    "a18.head()"
   ]
  },
  {
   "cell_type": "code",
   "execution_count": 17,
   "id": "67948fbb",
   "metadata": {},
   "outputs": [],
   "source": [
    "def count(tablename,column):\n",
    "    poscompo = 0\n",
    "    negcompo = 0\n",
    "    for val in tablename[column]:\n",
    "        if val == \"pos\":\n",
    "            poscompo += 1\n",
    "        else:\n",
    "            negcompo += 1\n",
    "    return poscompo,negcompo"
   ]
  },
  {
   "cell_type": "code",
   "execution_count": 18,
   "id": "2a3e9a27",
   "metadata": {},
   "outputs": [
    {
     "name": "stdout",
     "output_type": "stream",
     "text": [
      "The number of postive and negative sentiment of the conductor in 2018:(48, 12)\n"
     ]
    }
   ],
   "source": [
    "print('The number of postive and negative sentiment of the conductor in 2018:' + str(count(tablename = a18, column = 'comp_score')))"
   ]
  },
  {
   "cell_type": "code",
   "execution_count": 19,
   "id": "7d5e3d03",
   "metadata": {},
   "outputs": [
    {
     "name": "stdout",
     "output_type": "stream",
     "text": [
      "The number of postive and negative sentiment of the conductor in 2019:(291, 9)\n"
     ]
    }
   ],
   "source": [
    "# 2019\n",
    "a19['scores'] = a19['conductorfeedback'].apply(lambda conductorfeedback: sid.polarity_scores(conductorfeedback))\n",
    "a19['compound']  = a19['scores'].apply(lambda score_dict: score_dict['compound'])\n",
    "a19['comp_score'] = a19['compound'].apply(lambda c: 'pos' if c >=0 else 'neg')\n",
    "print('The number of postive and negative sentiment of the conductor in 2019:' + str(count(tablename = a19, column = 'comp_score')))"
   ]
  },
  {
   "cell_type": "code",
   "execution_count": 20,
   "id": "7234475e",
   "metadata": {},
   "outputs": [
    {
     "name": "stdout",
     "output_type": "stream",
     "text": [
      "The number of postive and negative sentiment of the conductor in 2020:(62, 10)\n"
     ]
    }
   ],
   "source": [
    "# 2020\n",
    "a20['scores'] = a20['conductorfeedback'].apply(lambda conductorfeedback: sid.polarity_scores(conductorfeedback))\n",
    "a20['compound']  = a20['scores'].apply(lambda score_dict: score_dict['compound'])\n",
    "a20['comp_score'] = a20['compound'].apply(lambda c: 'pos' if c >=0 else 'neg')\n",
    "print('The number of postive and negative sentiment of the conductor in 2020:' + str(count(tablename = a20, column = 'comp_score')))"
   ]
  },
  {
   "cell_type": "code",
   "execution_count": 21,
   "id": "626e2285",
   "metadata": {},
   "outputs": [
    {
     "name": "stdout",
     "output_type": "stream",
     "text": [
      "The number of postive and negative sentiment in 2021:(146, 0)\n"
     ]
    }
   ],
   "source": [
    "# 2021\n",
    "a21['scores'] = a21['conductorfeedback'].apply(lambda conductorfeedback: sid.polarity_scores(conductorfeedback))\n",
    "a21['compound']  = a21['scores'].apply(lambda score_dict: score_dict['compound'])\n",
    "a21['comp_score'] = a21['compound'].apply(lambda c: 'pos' if c >=0 else 'neg')\n",
    "print('The number of postive and negative sentiment in 2021:' + str(count(tablename = a21, column = 'comp_score')))"
   ]
  },
  {
   "cell_type": "code",
   "execution_count": null,
   "id": "eb880f39",
   "metadata": {},
   "outputs": [],
   "source": []
  },
  {
   "cell_type": "code",
   "execution_count": 23,
   "id": "718e9ae7",
   "metadata": {},
   "outputs": [
    {
     "data": {
      "text/html": [
       "<div>\n",
       "<style scoped>\n",
       "    .dataframe tbody tr th:only-of-type {\n",
       "        vertical-align: middle;\n",
       "    }\n",
       "\n",
       "    .dataframe tbody tr th {\n",
       "        vertical-align: top;\n",
       "    }\n",
       "\n",
       "    .dataframe thead th {\n",
       "        text-align: right;\n",
       "    }\n",
       "</style>\n",
       "<table border=\"1\" class=\"dataframe\">\n",
       "  <thead>\n",
       "    <tr style=\"text-align: right;\">\n",
       "      <th></th>\n",
       "      <th>year</th>\n",
       "      <th>positive</th>\n",
       "      <th>negative</th>\n",
       "    </tr>\n",
       "  </thead>\n",
       "  <tbody>\n",
       "    <tr>\n",
       "      <th>0</th>\n",
       "      <td>2018</td>\n",
       "      <td>48</td>\n",
       "      <td>12</td>\n",
       "    </tr>\n",
       "    <tr>\n",
       "      <th>1</th>\n",
       "      <td>2019</td>\n",
       "      <td>291</td>\n",
       "      <td>9</td>\n",
       "    </tr>\n",
       "    <tr>\n",
       "      <th>2</th>\n",
       "      <td>2020</td>\n",
       "      <td>62</td>\n",
       "      <td>10</td>\n",
       "    </tr>\n",
       "    <tr>\n",
       "      <th>3</th>\n",
       "      <td>2021</td>\n",
       "      <td>146</td>\n",
       "      <td>0</td>\n",
       "    </tr>\n",
       "  </tbody>\n",
       "</table>\n",
       "</div>"
      ],
      "text/plain": [
       "   year  positive  negative\n",
       "0  2018        48        12\n",
       "1  2019       291         9\n",
       "2  2020        62        10\n",
       "3  2021       146         0"
      ]
     },
     "execution_count": 23,
     "metadata": {},
     "output_type": "execute_result"
    }
   ],
   "source": [
    "plot_data = pd.DataFrame({'year':[2018,2019,2020,2021],'positive':[48,291,62,146],'negative':[12,9,10,0]})\n",
    "plot_data"
   ]
  },
  {
   "cell_type": "code",
   "execution_count": 24,
   "id": "50f68041",
   "metadata": {},
   "outputs": [
    {
     "data": {
      "text/plain": [
       "<AxesSubplot:title={'center':'The positive and negative sentiment of conductor through different years'}, xlabel='year'>"
      ]
     },
     "execution_count": 24,
     "metadata": {},
     "output_type": "execute_result"
    },
    {
     "data": {
      "image/png": "[encoded data removed]",
      "text/plain": [
       "<Figure size 432x288 with 1 Axes>"
      ]
     },
     "metadata": {},
     "output_type": "display_data"
    }
   ],
   "source": [
    "plot_data.plot(x=\"year\", y=[\"positive\", \"negative\"], kind=\"bar\", title = 'The positive and negative sentiment of conductor through different years')"
   ]
  },
  {
   "cell_type": "code",
   "execution_count": 25,
   "id": "dfdf4f83",
   "metadata": {},
   "outputs": [],
   "source": [
    "#  TOPIC MODELLING"
   ]
  },
  {
   "cell_type": "code",
   "execution_count": null,
   "id": "b0edb41b",
   "metadata": {},
   "outputs": [],
   "source": []
  },
  {
   "cell_type": "code",
   "execution_count": null,
   "id": "0b13fee5",
   "metadata": {},
   "outputs": [],
   "source": []
  },
  {
   "cell_type": "code",
   "execution_count": null,
   "id": "cd7b7a0d",
   "metadata": {},
   "outputs": [],
   "source": []
  },
  {
   "cell_type": "code",
   "execution_count": null,
   "id": "9d4fbabc",
   "metadata": {},
   "outputs": [],
   "source": []
  }
 ],
 "metadata": {
  "kernelspec": {
   "display_name": "Python 3",
   "language": "python",
   "name": "python3"
  },
  "language_info": {
   "codemirror_mode": {
    "name": "ipython",
    "version": 3
   },
   "file_extension": ".py",
   "mimetype": "text/x-python",
   "name": "python",
   "nbconvert_exporter": "python",
   "pygments_lexer": "ipython3",
   "version": "3.8.8"
  }
 },
 "nbformat": 4,
 "nbformat_minor": 5
}
